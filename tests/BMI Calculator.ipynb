{
 "cells": [
  {
   "cell_type": "code",
   "execution_count": 4,
   "id": "fee0afdd",
   "metadata": {},
   "outputs": [
    {
     "name": "stdout",
     "output_type": "stream",
     "text": [
      "Is your weight in kilograms or pounds? Please enter k or p: l\n",
      "Please try again, thank you.\n"
     ]
    }
   ],
   "source": [
    "unit_w = input(\"Is your weight in kilograms or pounds? Please enter k or p: \")\n",
    "if unit_w == \"p\" or unit_w == \"k\":\n",
    "    weight = float(input(\"Please enter your weight: \"))\n",
    "    if unit_w == \"p\":\n",
    "        weight *= 0.453592\n",
    "    elif unit_w == \"k\":\n",
    "        weight = weight\n",
    "    unit_h = input(\"Is your height in metres or feet? Please enter m or f: \")\n",
    "    if unit_h == \"m\" or unit_h == \"f\":\n",
    "        height = float(input(\"Please enter your height: \"))\n",
    "        if unit_h == \"f\":\n",
    "            unit_h *= 0.3048\n",
    "        elif unit_h == \"m\":\n",
    "            height = height\n",
    "        bmi = weight/(height**2)\n",
    "        print(\"\\nYour body mass index (BMI) is\", bmi)\n",
    "        if bmi<16:\n",
    "            print(\"Severe Thinness\")\n",
    "        elif bmi<17:\n",
    "            print(\"Moderate Thinness\")\n",
    "        elif bmi<18.5:\n",
    "            print(\"Mild Thinness\")\n",
    "        elif bmi<25:\n",
    "            print(\"Normal\")\n",
    "        elif bmi<30:\n",
    "            print(\"Overweight\")\n",
    "        elif bmi<35:\n",
    "            print(\"Obese Class I\")\n",
    "        elif bmi<40:\n",
    "            print(\"Obese Class II\")\n",
    "        else:\n",
    "            print(\"Obese Class III\")\n",
    "    else:\n",
    "        print(\"Please try again, thank you.\")\n",
    "else:\n",
    "    print(\"Please try again, thank you.\")"
   ]
  },
  {
   "cell_type": "code",
   "execution_count": null,
   "id": "2f4f3cec-8c12-4393-a753-4ec2c3744841",
   "metadata": {},
   "outputs": [],
   "source": []
  }
 ],
 "metadata": {
  "kernelspec": {
   "display_name": "Python 3 (ipykernel)",
   "language": "python",
   "name": "python3"
  },
  "language_info": {
   "codemirror_mode": {
    "name": "ipython",
    "version": 3
   },
   "file_extension": ".py",
   "mimetype": "text/x-python",
   "name": "python",
   "nbconvert_exporter": "python",
   "pygments_lexer": "ipython3",
   "version": "3.8.11"
  }
 },
 "nbformat": 4,
 "nbformat_minor": 5
}
